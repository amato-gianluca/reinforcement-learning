{
 "cells": [
  {
   "cell_type": "code",
   "execution_count": 13,
   "metadata": {},
   "outputs": [],
   "source": [
    "import sys\n",
    "sys.path.insert(0,'..')\n",
    "\n",
    "from MDP import dynamic_programming, gridworld_examples\n",
    "from MDP.gridworld import Action\n",
    "\n",
    "import montecarlo\n"
   ]
  },
  {
   "cell_type": "code",
   "execution_count": 14,
   "metadata": {},
   "outputs": [],
   "source": [
    "gex2 = gridworld_examples.GridWorld2()\n",
    "\n",
    "pi = gex2.random_policy()"
   ]
  },
  {
   "cell_type": "code",
   "execution_count": 15,
   "metadata": {},
   "outputs": [
    {
     "data": {
      "text/plain": "[((0, 1), <Action.east: 2>, -1.0),\n ((0, 2), <Action.west: 1>, -1.0),\n ((0, 1), <Action.south: 4>, -1.0),\n ((1, 1), <Action.west: 1>, -1.0),\n ((1, 0), <Action.east: 2>, -1.0),\n ((1, 1), <Action.north: 3>, -1.0),\n ((0, 1), <Action.west: 1>, -1.0)]"
     },
     "execution_count": 15,
     "metadata": {},
     "output_type": "execute_result"
    }
   ],
   "source": [
    "gex2.generate_episode(pi)"
   ]
  },
  {
   "cell_type": "code",
   "execution_count": 16,
   "metadata": {},
   "outputs": [
    {
     "data": {
      "text/plain": "[((0, 1), <Action.south: 4>, -1.0),\n ((1, 1), <Action.north: 3>, -1.0),\n ((0, 1), <Action.east: 2>, -1.0),\n ((0, 2), <Action.east: 2>, -1.0),\n ((0, 3), <Action.west: 1>, -1.0),\n ((0, 2), <Action.north: 3>, -1.0),\n ((0, 2), <Action.west: 1>, -1.0),\n ((0, 1), <Action.south: 4>, -1.0),\n ((1, 1), <Action.east: 2>, -1.0),\n ((1, 2), <Action.north: 3>, -1.0),\n ((0, 2), <Action.east: 2>, -1.0),\n ((0, 3), <Action.east: 2>, -1.0),\n ((0, 3), <Action.south: 4>, -1.0),\n ((1, 3), <Action.south: 4>, -1.0),\n ((2, 3), <Action.south: 4>, -1.0)]"
     },
     "execution_count": 16,
     "metadata": {},
     "output_type": "execute_result"
    }
   ],
   "source": [
    "gex2.generate_episode(pi, initial_state=(0, 1), initial_action = Action.south)"
   ]
  },
  {
   "cell_type": "code",
   "execution_count": 17,
   "metadata": {},
   "outputs": [
    {
     "data": {
      "text/plain": "{(0, 0): 0.0,\n (0, 1): -17.825000000000003,\n (0, 2): -21.15189873417721,\n (0, 3): -22.94285714285714,\n (1, 0): -14.593220338983047,\n (1, 1): -18.904255319148934,\n (1, 2): -20.405940594059402,\n (1, 3): -19.421686746987948,\n (2, 0): -14.646153846153847,\n (2, 1): -16.736263736263737,\n (2, 2): -17.039215686274517,\n (2, 3): -15.654320987654321,\n (3, 0): -8.470588235294118,\n (3, 1): -14.2,\n (3, 2): -11.653846153846157,\n (3, 3): 0.0}"
     },
     "execution_count": 17,
     "metadata": {},
     "output_type": "execute_result"
    }
   ],
   "source": [
    "montecarlo.policy_evaluation(gex2, pi, 1.0, 200)"
   ]
  },
  {
   "cell_type": "code",
   "execution_count": 18,
   "metadata": {},
   "outputs": [
    {
     "data": {
      "text/plain": "{(0, 0): 0.0,\n (0, 1): -12.703539227011955,\n (0, 2): -18.309721006115645,\n (0, 3): -20.283851098264865,\n (1, 0): -12.581005097481842,\n (1, 1): -15.803025622769784,\n (1, 2): -17.944406775221964,\n (1, 3): -18.260751489590607,\n (2, 0): -14.719841260844792,\n (2, 1): -15.984509763709838,\n (2, 2): -15.40548948833191,\n (2, 3): -12.555256596507764,\n (3, 0): -10.909905943659389,\n (3, 1): -14.01073152241148,\n (3, 2): -11.13861925425767,\n (3, 3): 0.0}"
     },
     "execution_count": 18,
     "metadata": {},
     "output_type": "execute_result"
    }
   ],
   "source": [
    "dynamic_programming.policy_evaluation(gridworld_examples.GridWorld2(), pi, 1.0, 0.001)"
   ]
  },
  {
   "cell_type": "code",
   "execution_count": 19,
   "metadata": {},
   "outputs": [
    {
     "data": {
      "text/plain": "{((0, 0), <Action.west: 1>): 0.0,\n ((0, 0), <Action.east: 2>): 0.0,\n ((0, 0), <Action.north: 3>): 0.0,\n ((0, 0), <Action.south: 4>): 0.0,\n ((0, 1), <Action.west: 1>): -1.0,\n ((0, 1), <Action.east: 2>): -17.3125,\n ((0, 1), <Action.north: 3>): -11.82142857142857,\n ((0, 1), <Action.south: 4>): -12.777777777777775,\n ((0, 2), <Action.west: 1>): -10.296296296296298,\n ((0, 2), <Action.east: 2>): -17.622222222222227,\n ((0, 2), <Action.north: 3>): -15.377777777777775,\n ((0, 2), <Action.south: 4>): -18.76923076923077,\n ((0, 3), <Action.west: 1>): -16.29166666666666,\n ((0, 3), <Action.east: 2>): -18.937499999999993,\n ((0, 3), <Action.north: 3>): -21.240000000000006,\n ((0, 3), <Action.south: 4>): -18.644444444444442,\n ((1, 0), <Action.west: 1>): -17.090909090909086,\n ((1, 0), <Action.east: 2>): -14.400000000000002,\n ((1, 0), <Action.north: 3>): -1.0,\n ((1, 0), <Action.south: 4>): -13.529411764705884,\n ((1, 1), <Action.west: 1>): -11.875,\n ((1, 1), <Action.east: 2>): -17.878048780487806,\n ((1, 1), <Action.north: 3>): -13.844444444444445,\n ((1, 1), <Action.south: 4>): -13.447368421052632,\n ((1, 2), <Action.west: 1>): -15.869565217391305,\n ((1, 2), <Action.east: 2>): -18.4468085106383,\n ((1, 2), <Action.north: 3>): -18.170731707317074,\n ((1, 2), <Action.south: 4>): -15.342105263157896,\n ((1, 3), <Action.west: 1>): -21.076923076923077,\n ((1, 3), <Action.east: 2>): -18.700000000000003,\n ((1, 3), <Action.north: 3>): -19.666666666666668,\n ((1, 3), <Action.south: 4>): -15.541666666666671,\n ((2, 0), <Action.west: 1>): -13.040000000000001,\n ((2, 0), <Action.east: 2>): -14.285714285714285,\n ((2, 0), <Action.north: 3>): -11.869565217391305,\n ((2, 0), <Action.south: 4>): -13.999999999999998,\n ((2, 1), <Action.west: 1>): -13.76923076923077,\n ((2, 1), <Action.east: 2>): -11.696969696969699,\n ((2, 1), <Action.north: 3>): -13.282051282051286,\n ((2, 1), <Action.south: 4>): -14.956521739130435,\n ((2, 2), <Action.west: 1>): -13.54054054054054,\n ((2, 2), <Action.east: 2>): -13.526315789473685,\n ((2, 2), <Action.north: 3>): -16.217391304347828,\n ((2, 2), <Action.south: 4>): -11.777777777777782,\n ((2, 3), <Action.west: 1>): -16.026315789473678,\n ((2, 3), <Action.east: 2>): -10.61290322580645,\n ((2, 3), <Action.north: 3>): -17.533333333333335,\n ((2, 3), <Action.south: 4>): -1.0,\n ((3, 0), <Action.west: 1>): -1.0,\n ((3, 0), <Action.east: 2>): -13.10526315789474,\n ((3, 0), <Action.north: 3>): -16.666666666666664,\n ((3, 0), <Action.south: 4>): -10.0,\n ((3, 1), <Action.west: 1>): -10.423076923076925,\n ((3, 1), <Action.east: 2>): -8.923076923076922,\n ((3, 1), <Action.north: 3>): -14.499999999999998,\n ((3, 1), <Action.south: 4>): -12.913043478260871,\n ((3, 2), <Action.west: 1>): -12.947368421052632,\n ((3, 2), <Action.east: 2>): -1.0,\n ((3, 2), <Action.north: 3>): -12.875,\n ((3, 2), <Action.south: 4>): -8.411764705882353,\n ((3, 3), <Action.west: 1>): 0.0,\n ((3, 3), <Action.east: 2>): 0.0,\n ((3, 3), <Action.north: 3>): 0.0,\n ((3, 3), <Action.south: 4>): 0.0}"
     },
     "execution_count": 19,
     "metadata": {},
     "output_type": "execute_result"
    }
   ],
   "source": [
    "montecarlo.policy_evaluation_es(gex2, pi, 1.0, 200)"
   ]
  },
  {
   "cell_type": "code",
   "execution_count": 20,
   "metadata": {},
   "outputs": [],
   "source": [
    "opt_pi, _ = dynamic_programming.policy_iteration(gex2, 1.0, 0.01)"
   ]
  },
  {
   "cell_type": "code",
   "execution_count": 21,
   "metadata": {},
   "outputs": [
    {
     "data": {
      "text/plain": "{(0, 0): 0.0,\n (0, 1): -1.0,\n (0, 2): -2.0,\n (0, 3): -3.0,\n (1, 0): -1.0,\n (1, 1): -2.0,\n (1, 2): -3.0,\n (1, 3): -2.0,\n (2, 0): -2.0,\n (2, 1): -3.0,\n (2, 2): -2.0,\n (2, 3): -1.0,\n (3, 0): -1.0,\n (3, 1): -2.0,\n (3, 2): -1.0,\n (3, 3): 0.0}"
     },
     "execution_count": 21,
     "metadata": {},
     "output_type": "execute_result"
    }
   ],
   "source": [
    "montecarlo.policy_evaluation(gex2, opt_pi, 1.0, 200)"
   ]
  },
  {
   "cell_type": "code",
   "execution_count": 22,
   "metadata": {},
   "outputs": [
    {
     "data": {
      "text/plain": "{((0, 0), <Action.west: 1>): 0.0,\n ((0, 0), <Action.east: 2>): 0.0,\n ((0, 0), <Action.north: 3>): 0.0,\n ((0, 0), <Action.south: 4>): 0.0,\n ((0, 1), <Action.west: 1>): -1.0,\n ((0, 1), <Action.east: 2>): -3.0,\n ((0, 1), <Action.north: 3>): -2.0,\n ((0, 1), <Action.south: 4>): -3.0,\n ((0, 2), <Action.west: 1>): -2.0,\n ((0, 2), <Action.east: 2>): -4.0,\n ((0, 2), <Action.north: 3>): -3.0,\n ((0, 2), <Action.south: 4>): -4.0,\n ((0, 3), <Action.west: 1>): -3.0,\n ((0, 3), <Action.east: 2>): -4.0,\n ((0, 3), <Action.north: 3>): -4.0,\n ((0, 3), <Action.south: 4>): -3.0,\n ((1, 0), <Action.west: 1>): -3.0,\n ((1, 0), <Action.east: 2>): -3.0,\n ((1, 0), <Action.north: 3>): -1.0,\n ((1, 0), <Action.south: 4>): -3.0,\n ((1, 1), <Action.west: 1>): -2.0,\n ((1, 1), <Action.east: 2>): -4.0,\n ((1, 1), <Action.north: 3>): -2.0,\n ((1, 1), <Action.south: 4>): -4.0,\n ((1, 2), <Action.west: 1>): -3.0,\n ((1, 2), <Action.east: 2>): -3.0,\n ((1, 2), <Action.north: 3>): -3.0,\n ((1, 2), <Action.south: 4>): -3.0,\n ((1, 3), <Action.west: 1>): -4.0,\n ((1, 3), <Action.east: 2>): -3.0,\n ((1, 3), <Action.north: 3>): -4.0,\n ((1, 3), <Action.south: 4>): -2.0,\n ((2, 0), <Action.west: 1>): -3.0,\n ((2, 0), <Action.east: 2>): -4.0,\n ((2, 0), <Action.north: 3>): -2.0,\n ((2, 0), <Action.south: 4>): -2.0,\n ((2, 1), <Action.west: 1>): -3.0,\n ((2, 1), <Action.east: 2>): -3.0,\n ((2, 1), <Action.north: 3>): -3.0,\n ((2, 1), <Action.south: 4>): -3.0,\n ((2, 2), <Action.west: 1>): -4.0,\n ((2, 2), <Action.east: 2>): -2.0,\n ((2, 2), <Action.north: 3>): -4.0,\n ((2, 2), <Action.south: 4>): -2.0,\n ((2, 3), <Action.west: 1>): -3.0,\n ((2, 3), <Action.east: 2>): -2.0,\n ((2, 3), <Action.north: 3>): -3.0,\n ((2, 3), <Action.south: 4>): -1.0,\n ((3, 0), <Action.west: 1>): -1.0,\n ((3, 0), <Action.east: 2>): -3.0,\n ((3, 0), <Action.north: 3>): -3.0,\n ((3, 0), <Action.south: 4>): -2.0,\n ((3, 1), <Action.west: 1>): -2.0,\n ((3, 1), <Action.east: 2>): -2.0,\n ((3, 1), <Action.north: 3>): -4.0,\n ((3, 1), <Action.south: 4>): -3.0,\n ((3, 2), <Action.west: 1>): 0.0,\n ((3, 2), <Action.east: 2>): -1.0,\n ((3, 2), <Action.north: 3>): -3.0,\n ((3, 2), <Action.south: 4>): -2.0,\n ((3, 3), <Action.west: 1>): 0.0,\n ((3, 3), <Action.east: 2>): 0.0,\n ((3, 3), <Action.north: 3>): 0.0,\n ((3, 3), <Action.south: 4>): 0.0}"
     },
     "execution_count": 22,
     "metadata": {},
     "output_type": "execute_result"
    }
   ],
   "source": [
    "montecarlo.policy_evaluation_es(gex2, opt_pi, 1.0, 200)"
   ]
  },
  {
   "cell_type": "code",
   "execution_count": null,
   "metadata": {},
   "outputs": [],
   "source": []
  }
 ],
 "metadata": {
  "file_extension": ".py",
  "kernelspec": {
   "display_name": "Python 3",
   "language": "python",
   "name": "python3"
  },
  "language_info": {
   "codemirror_mode": {
    "name": "ipython",
    "version": 3
   },
   "file_extension": ".py",
   "mimetype": "text/x-python",
   "name": "python",
   "nbconvert_exporter": "python",
   "pygments_lexer": "ipython3",
   "version": "3.7.6-final"
  },
  "mimetype": "text/x-python",
  "name": "python",
  "npconvert_exporter": "python",
  "pygments_lexer": "ipython3",
  "version": 3
 },
 "nbformat": 4,
 "nbformat_minor": 2
}